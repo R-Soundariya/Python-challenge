{
 "cells": [
  {
   "cell_type": "markdown",
   "id": "0a77ec8e",
   "metadata": {},
   "source": [
    "# SUM OF AN ARRAY"
   ]
  },
  {
   "cell_type": "code",
   "execution_count": 2,
   "id": "8b61ae6e",
   "metadata": {},
   "outputs": [
    {
     "name": "stdout",
     "output_type": "stream",
     "text": [
      "Sum of the array is  34\n"
     ]
    }
   ],
   "source": [
    "arr = []\n",
    "arr = [12, 3, 4, 15]\n",
    " \n",
    "# sum() is an inbuilt function in python that adds\n",
    "ans = sum(arr)\n",
    "\n",
    "print('Sum of the array is ', ans)"
   ]
  },
  {
   "cell_type": "markdown",
   "id": "e0627a6f",
   "metadata": {},
   "source": [
    "# LARGEST IN AN ARRAY"
   ]
  },
  {
   "cell_type": "code",
   "execution_count": 4,
   "id": "2ac936c7",
   "metadata": {},
   "outputs": [
    {
     "name": "stdout",
     "output_type": "stream",
     "text": [
      "Largest in given array  9808\n"
     ]
    }
   ],
   "source": [
    "def largest(arr, n):\n",
    "    max = arr[0]\n",
    "    for i in range(1, n):\n",
    "        if arr[i] > max:\n",
    "            max = arr[i]\n",
    "    return max\n",
    "\n",
    "arr = [10, 324, 45, 90, 9808]\n",
    "n = len(arr)\n",
    "Ans = largest(arr, n)\n",
    "print(\"Largest in given array \", Ans)"
   ]
  }
 ],
 "metadata": {
  "kernelspec": {
   "display_name": "Python 3",
   "language": "python",
   "name": "python3"
  },
  "language_info": {
   "codemirror_mode": {
    "name": "ipython",
    "version": 3
   },
   "file_extension": ".py",
   "mimetype": "text/x-python",
   "name": "python",
   "nbconvert_exporter": "python",
   "pygments_lexer": "ipython3",
   "version": "3.8.8"
  }
 },
 "nbformat": 4,
 "nbformat_minor": 5
}
