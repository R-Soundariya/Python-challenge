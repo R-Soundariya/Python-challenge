{
 "cells": [
  {
   "cell_type": "markdown",
   "id": "d8f996f5",
   "metadata": {},
   "source": [
    "# SIMPLE INTEREST"
   ]
  },
  {
   "cell_type": "code",
   "execution_count": 2,
   "id": "c24dfd81",
   "metadata": {},
   "outputs": [
    {
     "name": "stdout",
     "output_type": "stream",
     "text": [
      "The principal is 8\n",
      "The time period is 6\n",
      "The rate of interest is 8\n",
      "The Simple Interest is 3.84\n"
     ]
    },
    {
     "data": {
      "text/plain": [
       "3.84"
      ]
     },
     "execution_count": 2,
     "metadata": {},
     "output_type": "execute_result"
    }
   ],
   "source": [
    "def simple_interest(p,t,r):\n",
    "    print('The principal is', p)\n",
    "    print('The time period is', t)\n",
    "    print('The rate of interest is',r)\n",
    "     \n",
    "    si = (p * t * r)/100\n",
    "     \n",
    "    print('The Simple Interest is', si)\n",
    "    return si\n",
    "     \n",
    "simple_interest(8, 6, 8)"
   ]
  },
  {
   "cell_type": "markdown",
   "id": "0e6bda7a",
   "metadata": {},
   "source": [
    "# COMPOUND INTEREST"
   ]
  },
  {
   "cell_type": "code",
   "execution_count": 3,
   "id": "b1ae58c1",
   "metadata": {},
   "outputs": [
    {
     "name": "stdout",
     "output_type": "stream",
     "text": [
      "Compound interest is 6288.946267774416\n"
     ]
    }
   ],
   "source": [
    "def compound_interest(principal, rate, time):\n",
    " \n",
    "    # Calculates compound interest\n",
    "    Amount = principal * (pow((1 + rate / 100), time))\n",
    "    CI = Amount - principal\n",
    "    print(\"Compound interest is\", CI)\n",
    " \n",
    " \n",
    "# Driver Code\n",
    "compound_interest(10000, 10.25, 5)"
   ]
  }
 ],
 "metadata": {
  "kernelspec": {
   "display_name": "Python 3",
   "language": "python",
   "name": "python3"
  },
  "language_info": {
   "codemirror_mode": {
    "name": "ipython",
    "version": 3
   },
   "file_extension": ".py",
   "mimetype": "text/x-python",
   "name": "python",
   "nbconvert_exporter": "python",
   "pygments_lexer": "ipython3",
   "version": "3.8.8"
  }
 },
 "nbformat": 4,
 "nbformat_minor": 5
}
